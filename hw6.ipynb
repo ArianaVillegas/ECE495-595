{
 "cells": [
  {
   "cell_type": "markdown",
   "id": "b323a43e",
   "metadata": {},
   "source": [
    "# Homework 5"
   ]
  },
  {
   "cell_type": "markdown",
   "id": "01df15ac",
   "metadata": {},
   "source": [
    "### Team:\n",
    "- Ariana Villegas \n",
    "- John-Ryan Romo"
   ]
  },
  {
   "cell_type": "markdown",
   "id": "399f20c6",
   "metadata": {},
   "source": [
    "# Imports "
   ]
  },
  {
   "cell_type": "code",
   "execution_count": null,
   "id": "7c2226b9",
   "metadata": {},
   "outputs": [],
   "source": [
    "import matplotlib\n",
    "import matplotlib.pyplot as plt\n",
    "import numpy as np"
   ]
  },
  {
   "cell_type": "code",
   "execution_count": null,
   "id": "0e036287",
   "metadata": {},
   "outputs": [],
   "source": [
    "from src.algorithm import ValueIteration, FVMonteCarlo, ESoftPolicy\n",
    "from src.tester import Tester\n",
    "from src.env import GridWorld"
   ]
  }
 ],
 "metadata": {
  "kernelspec": {
   "display_name": "Python 3.10.4 64-bit",
   "language": "python",
   "name": "python3"
  },
  "language_info": {
   "name": "python",
   "version": "3.10.4"
  },
  "orig_nbformat": 4,
  "vscode": {
   "interpreter": {
    "hash": "916dbcbb3f70747c44a77c7bcd40155683ae19c65e1c03b4aa3499c5328201f1"
   }
  }
 },
 "nbformat": 4,
 "nbformat_minor": 2
}
